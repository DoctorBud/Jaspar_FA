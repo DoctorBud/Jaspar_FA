{
 "cells": [
  {
   "cell_type": "markdown",
   "metadata": {},
   "source": [
    "turn the Jaspar experiments  https://github.com/TomConlin/Jaspar_FA into RDF to load"
   ]
  },
  {
   "cell_type": "code",
   "execution_count": 1,
   "metadata": {
    "collapsed": true
   },
   "outputs": [],
   "source": [
    "import csv\n",
    "import hashlib"
   ]
  },
  {
   "cell_type": "markdown",
   "metadata": {},
   "source": [
    "the triples to generate may be found by issueing\n",
    "\n",
    "```awk -F'\"' '/.* -> .*/ {print \"# <\" $2 \"><\" $6 \"><\" $4 \">\"}' jaspar_target_model.gv```"
   ]
  },
  {
   "cell_type": "code",
   "execution_count": 2,
   "metadata": {
    "collapsed": true
   },
   "outputs": [],
   "source": [
    "# <NCBIGene:123><SO:adjacent_to><BNODE:gene1_upstream_region>\n",
    "# <BNODE:gene1_upstream_region><rdfs:label><gene1_upstream_region>\n",
    "# <BNODE:gene1_upstream_region><GENO:has_extent><1000 (region extent bp)>\n",
    "# <BNODE:gene1_upstream_region><rdf:type><SO:five_prime_flanking_region>\n",
    "# <BNODE:gene1_upstream_region><rdf:comment><Candidate SO:TF_binding_sites>\n",
    "# <BNODE:motif_set><rdfs:label><motif_set_sig>\n",
    "# <BNODE:motif_set><rdf:type><SIO:collection>\n",
    "# <BNODE:motif_set><rdf:value><3 (flavors)>\n",
    "# <BNODE:motif_set><OIO:hasdbxref><http:JASPAR:motif>\n",
    "# <BNODE:motif_set><OIO:subset><BNODE:motif_set>\n",
    "# <BNODE:motif_set><RO:has member><JASPAR:motif>\n",
    "# <JASPAR:motif><rdf:type><SO:nucleotide_motif>\n",
    "# <JASPAR:motif><OIO:hasdbxref><http:JASPAR:motif>\n",
    "# <JASPAR:motif><rdfs:label><motif>\n",
    "# <BNODE:gene1_upstream_region><RO:member of><BNODE:pairwise similarity>\n",
    "# <BNODE:gene2_upstream_region><RO:member of><BNODE:pairwise similarity>\n",
    "# <BNODE:pairwise similarity><rdfs:label><gene1_region gene2_region>\n",
    "# <BNODE:pairwise similarity><SWO:Similarity score><0.73>\n",
    "# <BNODE:pairwise similarity><rdf:type><SWO:Jaccard’s index>\n"
   ]
  },
  {
   "cell_type": "code",
   "execution_count": 3,
   "metadata": {
    "collapsed": true
   },
   "outputs": [],
   "source": [
    "# return a deterministic digest of input\n",
    "# the 'b' is an experiment forcing the first char to be\n",
    "# non numeric but valid hex\n",
    "# which is in no way required for RDF\n",
    "# but can help when using the identifier in other contexts\n",
    "def digest_id(wordage):\n",
    "    return 'b' + hashlib.sha1(wordage.encode('utf-8')).hexdigest()[1:20]"
   ]
  },
  {
   "cell_type": "code",
   "execution_count": 4,
   "metadata": {
    "collapsed": true
   },
   "outputs": [],
   "source": [
    "# stand in till I expand the curises to full IRI\n",
    "def write_triple(sub, prd, obj):\n",
    "    triples.append(sub + ' ' + prd + ' ' + obj + ' .')\n"
   ]
  },
  {
   "cell_type": "code",
   "execution_count": 5,
   "metadata": {
    "collapsed": true
   },
   "outputs": [],
   "source": [
    "regions = {    \n",
    "    '1k' : {\n",
    "        'f1' : 'gene_motifsetsig_1k.tab'\n",
    "    }, \n",
    "    '2k' : {\n",
    "        'f1' : 'gene_motifsetsig_1k.tab'\n",
    "    },\n",
    "    '5k' : {\n",
    "        'f1' : 'gene_motifsetsig_1k.tab'\n",
    "    }\n",
    "}"
   ]
  },
  {
   "cell_type": "markdown",
   "metadata": {},
   "source": [
    "The triples to produce form these files are:\n",
    "\n",
    "    # <NCBIGene_123><SO:adjacent_to><BNODE:gene_upstream_region>\n",
    "    # <BNODE:gene_upstream_region><rdfs:label><gene_upstream_region>\n",
    "    # <BNODE:gene_upstream_region><GENO:has_extent><1000 (region extent bp)>\n",
    "    # <BNODE:gene_upstream_region><rdf:type><SO:five_prime_flanking_region>\n",
    "    # <BNODE:gene_upstream_region><rdf:comment><Candidate SO:TF_binding_sites>\n",
    "    # <BNODE:motif_set><rdfs:label><motif_set_sig>\n",
    "    # <BNODE:motif_set><rdf:type><SIO:collection>\n"
   ]
  },
  {
   "cell_type": "code",
   "execution_count": 6,
   "metadata": {},
   "outputs": [],
   "source": [
    "triples = []\n",
    "\n",
    "for extent in regions:\n",
    "    # print(extent)\n",
    "    # print(regions[extent])\n",
    "    for fname in regions[extent]:\n",
    "       # print(fname)\n",
    "       # print(regions[extent][fname])    \n",
    "        with open(regions[extent][fname], 'r') as tabfile:\n",
    "            filereader = csv.reader(tabfile, delimiter='\\t')\n",
    "            line_counter = 0\n",
    "            for row in filereader:\n",
    "                line_counter += 1     \n",
    "                (geneid, centroid, motifsetsig, count) = row\n",
    "                gene = 'NCBIGene:' + str(geneid)\n",
    "                region_label = gene + \"_up\"  + extent + \"_@\" + centroid\n",
    "                region = '_:' + digest_id(region_label)\n",
    "                motifset = '_:' + digest_id(motifsetsig)\n",
    "    \n",
    "                # using the triple templates extracted from the target model\n",
    "    \n",
    "                # <NCBIGene_123><SO:adjacent_to><BNODE:gene_upstream_region>\n",
    "                write_triple(gene, 'SO:adjecent_to', region)\n",
    "                # <BNODE:gene_upstream_region><rdfs:label><gene_upstream_region>\n",
    "                write_triple(region, 'rdfs:label', region_label)\n",
    "                # <BNODE:gene_upstream_region><GENO:has_extent><1000>\n",
    "                write_triple(region, 'GENO:has_extent', extent)\n",
    "                # <BNODE:gene_upstream_region><rdf:type><SO:five_prime_flanking_region>\n",
    "                write_triple(region, 'rdf:type', 'SO:five_prime_flanking_region')\n",
    "                # <BNODE:motif_set><rdfs:label><motif_set_sig>\n",
    "                write_triple(motifset, 'rdfs:label', motifsetsig)\n",
    "                # <BNODE:motif_set><rdf:type><SIO:collection>\n",
    "                write_triple(motifset, 'rdf:type', 'SIO:collection')"
   ]
  },
  {
   "cell_type": "code",
   "execution_count": 7,
   "metadata": {},
   "outputs": [
    {
     "data": {
      "text/plain": [
       "248994"
      ]
     },
     "execution_count": 7,
     "metadata": {},
     "output_type": "execute_result"
    }
   ],
   "source": [
    "len(triples)"
   ]
  },
  {
   "cell_type": "code",
   "execution_count": 8,
   "metadata": {},
   "outputs": [
    {
     "name": "stdout",
     "output_type": "stream",
     "text": [
      "_:b4e88dc925d53f9f5b13 rdfs:label NCBIGene:100037417_up2k_@+24308525 .\n",
      "_:bab65abf77bc97165a69 rdf:type SIO:collection .\n"
     ]
    }
   ],
   "source": [
    "print(triples[1])\n",
    "print(triples[len(triples)-1])"
   ]
  },
  {
   "cell_type": "markdown",
   "metadata": {},
   "source": [
    "splitting the motifset count out b/c it is independent of the gene/regions\n",
    "\n",
    "    # <BNODE:motif_set><rdf:value><3>\n",
    "    \n",
    "in `motifsetsig_count.tab`"
   ]
  },
  {
   "cell_type": "code",
   "execution_count": 9,
   "metadata": {
    "collapsed": true
   },
   "outputs": [],
   "source": [
    "with open('motifsetsig_count.tab', 'r') as tabfile:\n",
    "    filereader = csv.reader(tabfile, delimiter='\\t')\n",
    "    for row in filereader:\n",
    "        line_counter += 1     \n",
    "        (motifsetsig, count) = row\n",
    "        motifset = '_:' + digest_id(motifsetsig)\n",
    "        # <BNODE:motif_set><rdf:value><3>\n",
    "        write_triple(motifset, 'rdf:value', count)"
   ]
  },
  {
   "cell_type": "code",
   "execution_count": 10,
   "metadata": {},
   "outputs": [
    {
     "name": "stdout",
     "output_type": "stream",
     "text": [
      "254994\n",
      "_:b6589fc6ab0dc82cf120 rdf:value -2 .\n"
     ]
    }
   ],
   "source": [
    "print(len(triples))\n",
    "print(triples[len(triples)-1])"
   ]
  },
  {
   "cell_type": "markdown",
   "metadata": {},
   "source": [
    "    # <BNODE:motif_set><OIO:subset><BNODE:motif_set>\n",
    "\n",
    "comes from `motifsetsig_subset.tab`"
   ]
  },
  {
   "cell_type": "code",
   "execution_count": 11,
   "metadata": {
    "collapsed": true
   },
   "outputs": [],
   "source": [
    "with open('motifsetsig_subset.tab', 'r') as tabfile:\n",
    "    filereader = csv.reader(tabfile, delimiter='\\t')\n",
    "    for row in filereader:     \n",
    "        (motifsetsig, subsetsig) = row\n",
    "        motifset = '_:' + digest_id(motifsetsig)\n",
    "        subset = '_:' + digest_id(subsetsig)\n",
    "        # <BNODE:motif_set><OIO:subset><BNODE:motif_set>\n",
    "        write_triple(motifset, 'OIO:subset', subset)"
   ]
  },
  {
   "cell_type": "code",
   "execution_count": 12,
   "metadata": {},
   "outputs": [
    {
     "name": "stdout",
     "output_type": "stream",
     "text": [
      "265430\n",
      "_:b1d5781111d84f7b3fe4 OIO:subset _:ba4b9237bacccdf19c07 .\n"
     ]
    }
   ],
   "source": [
    "print(len(triples))\n",
    "print(triples[len(triples)-1])"
   ]
  },
  {
   "cell_type": "markdown",
   "metadata": {},
   "source": [
    "    # <BNODE:motif_set><OIO:hasdbxref><http:JASPAR:motif>\n",
    "    # <BNODE:motif_set><RO:has member><JASPAR:motif> \n",
    "    \n",
    "will just do the first with data from `motifsetsig_motif.tab`"
   ]
  },
  {
   "cell_type": "code",
   "execution_count": 13,
   "metadata": {
    "collapsed": true
   },
   "outputs": [],
   "source": [
    "with open('motifsetsig_motif.tab', 'r') as tabfile:\n",
    "    filereader = csv.reader(tabfile, delimiter='\\t')\n",
    "    for row in filereader:     \n",
    "        (motifsetsig, motif) = row\n",
    "        motifset = '_:' + digest_id(motifsetsig)\n",
    "        # <BNODE:motif_set><OIO:hasdbxref><http:JASPAR:motif>\n",
    "        write_triple(motifset, 'OIO:hasdbxref', \"JASPAR:\" + motif)"
   ]
  },
  {
   "cell_type": "code",
   "execution_count": 14,
   "metadata": {},
   "outputs": [
    {
     "name": "stdout",
     "output_type": "stream",
     "text": [
      "314226\n",
      "_:b093da02f1d652201da3 OIO:hasdbxref JASPAR:MA0940.1 .\n"
     ]
    }
   ],
   "source": [
    "print(len(triples))\n",
    "print(triples[len(triples)-1])"
   ]
  },
  {
   "cell_type": "markdown",
   "metadata": {
    "collapsed": true
   },
   "source": [
    "    # <BNODE:gene_upstream_region><RO:member of><BNODE:gene_jaccard_value>\n",
    "    # <BNODE:gene2_upstream_region><RO:member of><BNODE:gene_jaccard_value>\n",
    "    \n",
    "    # <BNODE:gene_jaccard_value><rdfs:label><gene1_region gene2_region>\n",
    "    # <BNODE:gene_jaccard_value><SWO:Similarity score>\t<0.73>\n",
    "    # <BNODE:gene_jaccard_value><rdf:type><SWO:Jaccard’s index> \n",
    "    \n",
    " previously created    \n",
    "    gene = 'NCBIGene:' + str(entrezid)  \n",
    "    region_label = gene + \"_up\"  + extent + \"_@\" + centroid  \n",
    "    region = '_:' + digest_id(region_label)  \n",
    "    \n",
    " will need   \n",
    "    (extent)    gene1    gene2    jaccard  \n",
    "    \n",
    " maybe also  \n",
    "    \n",
    "    (extent)    gene    dimotifsig  \n",
    "    \n",
    "    \n",
    "    \n",
    "    \n",
    "    "
   ]
  },
  {
   "cell_type": "code",
   "execution_count": 15,
   "metadata": {
    "scrolled": true
   },
   "outputs": [
    {
     "name": "stdout",
     "output_type": "stream",
     "text": [
      "550541\n",
      "_:b5ddde0732e9a90a4439 RO:member of _:b30b48bbba03925a46c2 .\n",
      "687701\n",
      "_:b9ac6aff8a45db6038b3 RO:member of _:ba67834c51275ad0768a .\n",
      "1182261\n",
      "_:b61cfb479592e1975cff RO:member of _:b6a597111b85ff48d8a3 .\n"
     ]
    }
   ],
   "source": [
    "dimotif_regions = {    \n",
    "    '1k' : {\n",
    "        'f1' : 'gene_pair_dimotif_jaccard_1k.tab'\n",
    "    }, \n",
    "    '2k' : {\n",
    "        'f1' : 'gene_pair_dimotif_jaccard_2k.tab'\n",
    "    },\n",
    "    '5k' : {\n",
    "        'f1' : 'gene_pair_dimotif_jaccard_5k.tab'\n",
    "    }\n",
    "}\n",
    "\n",
    "for extent in dimotif_regions:\n",
    "    # print(extent)\n",
    "    # print(regions[extent])\n",
    "    for fname in dimotif_regions[extent]:\n",
    "       # print(fname)\n",
    "       # print(regions[extent][fname])    \n",
    "        with open(dimotif_regions[extent][fname], 'r') as tabfile:\n",
    "            filereader = csv.reader(tabfile, delimiter='\\t')\n",
    "            line_counter = 0\n",
    "            for row in filereader:\n",
    "                line_counter += 1     \n",
    "                (gene1id, centroid1, gene2id, centroid2, jaccard) = row\n",
    "                gene1 = 'NCBIGene:' + str(gene1id)\n",
    "                region1_label = gene1 + \"_up\"  + extent + \"_@\" + centroid1\n",
    "                gene2 = 'NCBIGene:' + str(gene1id)\n",
    "                region2_label = gene2 + \"_up\"  + extent + \"_@\" + centroid2\n",
    "                pairwise_label = region1_label + \" & \" + region2_label\n",
    "                pairwise_id =  \"_:\" + digest_id(pairwise_label)\n",
    "                # <BNODE:gene_jaccard_value><rdf:type><SWO:Jaccard’s index>\n",
    "                write_triple(pairwise_id, 'rdf:type', \"SWO:Jaccard’s index\")\n",
    "                # <BNODE:gene_jaccard_value><rdfs:label><gene1_region gene2_region>\n",
    "                write_triple(pairwise_id, 'rdfs:label', pairwise_label)\n",
    "                # <BNODE:gene_jaccard_value><SWO:Similarity score>\t<0.73>\n",
    "                write_triple(pairwise_id, 'SWO:Similarity score', jaccard) \n",
    "                # <BNODE:gene1_upstream_region><RO:member of><BNODE:gene_jaccard_value>\n",
    "                write_triple (\"_:\" + digest_id(region1_label), 'RO:member of', pairwise_id)     \n",
    "                # <BNODE:gene2_upstream_region><RO:member of><BNODE:gene_jaccard_value>\n",
    "                write_triple (\"_:\" + digest_id(region2_label), 'RO:member of', pairwise_id)\n",
    "        print(len(triples))\n",
    "        print(triples[len(triples)-1])\n",
    "   \n",
    "                \n",
    "                "
   ]
  },
  {
   "cell_type": "code",
   "execution_count": 16,
   "metadata": {},
   "outputs": [],
   "source": [
    "fh = open('jaspar_curies.nt', 'w')\n",
    "print('\\n'.join(list(set(triples))), file=fh)\n",
    "      \n",
    "fh.close()"
   ]
  }
 ],
 "metadata": {
  "kernelspec": {
   "display_name": "Python 3",
   "language": "python",
   "name": "python3"
  },
  "language_info": {
   "codemirror_mode": {
    "name": "ipython",
    "version": 3
   },
   "file_extension": ".py",
   "mimetype": "text/x-python",
   "name": "python",
   "nbconvert_exporter": "python",
   "pygments_lexer": "ipython3",
   "version": "3.5.2"
  }
 },
 "nbformat": 4,
 "nbformat_minor": 2
}
